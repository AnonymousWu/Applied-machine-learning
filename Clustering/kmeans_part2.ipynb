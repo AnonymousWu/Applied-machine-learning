{
 "cells": [
  {
   "cell_type": "code",
   "execution_count": 3,
   "metadata": {},
   "outputs": [],
   "source": [
    "import os\n",
    "import numpy as np\n",
    "from sklearn.cluster import KMeans\n",
    "from sklearn.ensemble import RandomForestClassifier\n",
    "from sklearn.svm import SVC\n",
    "from sklearn.metrics import confusion_matrix, accuracy_score"
   ]
  },
  {
   "cell_type": "code",
   "execution_count": 4,
   "metadata": {},
   "outputs": [],
   "source": [
    "#train test split\n",
    "train = {}\n",
    "test = {}\n",
    "\n",
    "keys = [name for name in os.listdir(\"HMP_Dataset\") if os.path.isdir(\"HMP_Dataset/\" + name)]\n",
    "for i,key in enumerate(keys):\n",
    "    train[i] = []\n",
    "    test[i] = []\n",
    "    key_path = \"HMP_Dataset/\" + key\n",
    "    file_names = os.listdir(key_path)\n",
    "    size = len(file_names)\n",
    "    test_size = int(max(np.floor(0.2*size), 1))\n",
    "    train_size = int(size - test_size)\n",
    "    test_index = set(np.random.choice(size, test_size, replace=False))\n",
    "    for j,file_name in enumerate(file_names):\n",
    "        cur_data = []\n",
    "        file_path = key_path + '/' + file_name\n",
    "        with open(file_path, \"r\") as f:\n",
    "            for row in f:\n",
    "                line = list(map(int, row.replace(\"\\n\", \"\").split(\" \")))\n",
    "                cur_data.append(line)\n",
    "        if j in test_index:\n",
    "            test[i].append(np.array(cur_data))\n",
    "        else:\n",
    "            train[i].append(np.array(cur_data))"
   ]
  },
  {
   "cell_type": "code",
   "execution_count": 356,
   "metadata": {},
   "outputs": [],
   "source": [
    "#vector quantize\n",
    "class VectorQuantize:\n",
    "    def __init__(self, k, size):\n",
    "        self.k = k\n",
    "        self.k_mean_model = KMeans(n_clusters=self.k)\n",
    "        self.size = size\n",
    "      \n",
    "    def fit(self, input_data):\n",
    "        flatten_signals = []\n",
    "\n",
    "        for key in input_data:\n",
    "            move_data = input_data[key]\n",
    "            for data in move_data:\n",
    "                cut_data = self.cut(data)\n",
    "                flatten_signals += cut_data\n",
    "\n",
    "        self.k_mean_model.fit(flatten_signals)\n",
    "\n",
    "    def transform(self, input_data):\n",
    "        output_data = []\n",
    "        for key in input_data:\n",
    "            move_data = input_data[key]\n",
    "            for data in move_data:\n",
    "                cut_data = self.cut(data)\n",
    "                y_pred = self.k_mean_model.predict(cut_data)\n",
    "                output_data += [self.count(y_pred) + [key]]\n",
    "\n",
    "        return np.array(output_data)\n",
    "    \n",
    "    def cut(self, input_data):\n",
    "        result = []\n",
    "        idx = 0\n",
    "        while idx+self.size <  len(input_data):\n",
    "            result += [np.reshape(input_data[idx:idx+self.size, :], 3*self.size)]\n",
    "            idx += self.size \n",
    "        return result\n",
    "\n",
    "    def count(self, input_data):\n",
    "        quantized_vectors = [0 for _ in range(self.k)]\n",
    "        for signal in input_data:\n",
    "            quantized_vectors[int(signal)] += 1\n",
    "\n",
    "        return quantized_vectors\n",
    "\n",
    "    "
   ]
  },
  {
   "cell_type": "code",
   "execution_count": 357,
   "metadata": {},
   "outputs": [],
   "source": [
    "vq = VectorQuantize(k=10, size=5)\n",
    "vq.fit(train)\n",
    "train_transform = vq.transform(train)\n",
    "test_transform = vq.transform(test)"
   ]
  },
  {
   "cell_type": "code",
   "execution_count": 410,
   "metadata": {},
   "outputs": [
    {
     "name": "stdout",
     "output_type": "stream",
     "text": [
      "0.775757575758\n"
     ]
    },
    {
     "data": {
      "text/plain": [
       "array([[ 2,  0,  0,  0,  0,  0,  0,  0,  0,  0,  0,  0,  0,  0],\n",
       "       [ 0, 15,  0,  3,  0,  0,  0,  0,  0,  0,  0,  1,  0,  1],\n",
       "       [ 0,  0,  4,  0,  0,  0,  0,  0,  0,  1,  0,  0,  1,  0],\n",
       "       [ 0,  1,  0,  7,  0,  0,  0,  0,  0,  0,  0,  0,  0,  0],\n",
       "       [ 0,  0,  0,  0, 20,  0,  0,  0,  0,  0,  0,  0,  0,  0],\n",
       "       [ 0,  0,  0,  0,  1,  0,  0,  0,  0,  0,  0,  0,  0,  0],\n",
       "       [ 0,  0,  0,  0,  0,  0,  0,  0,  0,  1,  0,  0,  0,  0],\n",
       "       [ 0,  0,  1,  1,  0,  0,  0, 11,  4,  0,  1,  2,  0,  0],\n",
       "       [ 0,  0,  0,  1,  0,  0,  0,  3,  1,  0,  0,  0,  0,  0],\n",
       "       [ 0,  0,  0,  0,  0,  0,  0,  0,  0, 19,  1,  0,  0,  0],\n",
       "       [ 0,  0,  0,  0,  0,  0,  0,  1,  1,  0, 16,  2,  0,  0],\n",
       "       [ 0,  1,  0,  0,  0,  0,  0,  1,  1,  0,  1, 16,  0,  0],\n",
       "       [ 0,  0,  0,  0,  0,  0,  0,  0,  0,  0,  0,  0,  2,  0],\n",
       "       [ 0,  0,  0,  0,  0,  0,  0,  2,  0,  0,  2,  1,  0, 15]])"
      ]
     },
     "execution_count": 410,
     "metadata": {},
     "output_type": "execute_result"
    }
   ],
   "source": [
    "#prediciton\n",
    "train_data = train_transform[:, :-1]\n",
    "train_label = train_transform[:, -1]\n",
    "test_data = test_transform[:, :-1]\n",
    "test_label = test_transform[:, -1]\n",
    "\n",
    "rf = RandomForestClassifier(n_estimators=10, max_depth=None)\n",
    "rf.fit(train_data, train_label)\n",
    "predictions = rf.predict(test_data)\n",
    "print(accuracy_score(test_label, predictions))\n",
    "confusion_matrix(test_label, predictions)"
   ]
  },
  {
   "cell_type": "markdown",
   "metadata": {},
   "source": [
    "Above is my acc score and confustion matrix, with k = 10 and size = 5. The highest acc I got is 0.84 with avg being 0.8. It seems to be my best parameter so far. I try to increase my number of cluster to 100 and even to 500, with size being increased to 10 and 50, but the accuaracy seems to decreasing."
   ]
  }
 ],
 "metadata": {
  "kernelspec": {
   "display_name": "Python 3",
   "language": "python",
   "name": "python3"
  },
  "language_info": {
   "codemirror_mode": {
    "name": "ipython",
    "version": 3
   },
   "file_extension": ".py",
   "mimetype": "text/x-python",
   "name": "python",
   "nbconvert_exporter": "python",
   "pygments_lexer": "ipython3",
   "version": "3.6.4"
  }
 },
 "nbformat": 4,
 "nbformat_minor": 2
}
