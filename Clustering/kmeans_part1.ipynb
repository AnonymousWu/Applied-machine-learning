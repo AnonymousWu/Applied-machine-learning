{
 "cells": [
  {
   "cell_type": "code",
   "execution_count": 1,
   "metadata": {},
   "outputs": [],
   "source": [
    "%matplotlib inline"
   ]
  },
  {
   "cell_type": "code",
   "execution_count": 2,
   "metadata": {},
   "outputs": [],
   "source": [
    "import numpy as np\n",
    "import pandas as pd\n",
    "import matplotlib.pyplot as plt\n",
    "from sklearn.cluster import KMeans\n",
    "from sklearn.decomposition import PCA\n",
    "from sklearn.cluster import AgglomerativeClustering\n",
    "from scipy.cluster.hierarchy import linkage, dendrogram"
   ]
  },
  {
   "cell_type": "code",
   "execution_count": 3,
   "metadata": {},
   "outputs": [],
   "source": [
    "data = pd.read_csv('part1_data.csv', header=0)\n",
    "data = data.set_index('Country')"
   ]
  },
  {
   "cell_type": "code",
   "execution_count": 4,
   "metadata": {},
   "outputs": [
    {
     "data": {
      "text/html": [
       "<div>\n",
       "<style scoped>\n",
       "    .dataframe tbody tr th:only-of-type {\n",
       "        vertical-align: middle;\n",
       "    }\n",
       "\n",
       "    .dataframe tbody tr th {\n",
       "        vertical-align: top;\n",
       "    }\n",
       "\n",
       "    .dataframe thead th {\n",
       "        text-align: right;\n",
       "    }\n",
       "</style>\n",
       "<table border=\"1\" class=\"dataframe\">\n",
       "  <thead>\n",
       "    <tr style=\"text-align: right;\">\n",
       "      <th></th>\n",
       "      <th>Agr</th>\n",
       "      <th>Min</th>\n",
       "      <th>Man</th>\n",
       "      <th>PS</th>\n",
       "      <th>Con</th>\n",
       "      <th>SI</th>\n",
       "      <th>Fin</th>\n",
       "      <th>SPS</th>\n",
       "      <th>TC</th>\n",
       "    </tr>\n",
       "    <tr>\n",
       "      <th>Country</th>\n",
       "      <th></th>\n",
       "      <th></th>\n",
       "      <th></th>\n",
       "      <th></th>\n",
       "      <th></th>\n",
       "      <th></th>\n",
       "      <th></th>\n",
       "      <th></th>\n",
       "      <th></th>\n",
       "    </tr>\n",
       "  </thead>\n",
       "  <tbody>\n",
       "    <tr>\n",
       "      <th>Belgium</th>\n",
       "      <td>3.3</td>\n",
       "      <td>0.9</td>\n",
       "      <td>27.6</td>\n",
       "      <td>0.9</td>\n",
       "      <td>8.2</td>\n",
       "      <td>19.1</td>\n",
       "      <td>6.2</td>\n",
       "      <td>26.6</td>\n",
       "      <td>7.2</td>\n",
       "    </tr>\n",
       "    <tr>\n",
       "      <th>Denmark</th>\n",
       "      <td>9.2</td>\n",
       "      <td>0.1</td>\n",
       "      <td>21.8</td>\n",
       "      <td>0.6</td>\n",
       "      <td>8.3</td>\n",
       "      <td>14.6</td>\n",
       "      <td>6.5</td>\n",
       "      <td>32.2</td>\n",
       "      <td>7.1</td>\n",
       "    </tr>\n",
       "    <tr>\n",
       "      <th>France</th>\n",
       "      <td>10.8</td>\n",
       "      <td>0.8</td>\n",
       "      <td>27.5</td>\n",
       "      <td>0.9</td>\n",
       "      <td>8.9</td>\n",
       "      <td>16.8</td>\n",
       "      <td>6.0</td>\n",
       "      <td>22.6</td>\n",
       "      <td>5.7</td>\n",
       "    </tr>\n",
       "    <tr>\n",
       "      <th>W. Germany</th>\n",
       "      <td>6.7</td>\n",
       "      <td>1.3</td>\n",
       "      <td>35.8</td>\n",
       "      <td>0.9</td>\n",
       "      <td>7.3</td>\n",
       "      <td>14.4</td>\n",
       "      <td>5.0</td>\n",
       "      <td>22.3</td>\n",
       "      <td>6.1</td>\n",
       "    </tr>\n",
       "    <tr>\n",
       "      <th>Ireland</th>\n",
       "      <td>23.2</td>\n",
       "      <td>1.0</td>\n",
       "      <td>20.7</td>\n",
       "      <td>1.3</td>\n",
       "      <td>7.5</td>\n",
       "      <td>16.8</td>\n",
       "      <td>2.8</td>\n",
       "      <td>20.8</td>\n",
       "      <td>6.1</td>\n",
       "    </tr>\n",
       "    <tr>\n",
       "      <th>Italy</th>\n",
       "      <td>15.9</td>\n",
       "      <td>0.6</td>\n",
       "      <td>27.6</td>\n",
       "      <td>0.5</td>\n",
       "      <td>10.0</td>\n",
       "      <td>18.1</td>\n",
       "      <td>1.6</td>\n",
       "      <td>20.1</td>\n",
       "      <td>5.7</td>\n",
       "    </tr>\n",
       "    <tr>\n",
       "      <th>Luxembourg</th>\n",
       "      <td>7.7</td>\n",
       "      <td>3.1</td>\n",
       "      <td>30.8</td>\n",
       "      <td>0.8</td>\n",
       "      <td>9.2</td>\n",
       "      <td>18.5</td>\n",
       "      <td>4.6</td>\n",
       "      <td>19.2</td>\n",
       "      <td>6.2</td>\n",
       "    </tr>\n",
       "    <tr>\n",
       "      <th>Netherlands</th>\n",
       "      <td>6.3</td>\n",
       "      <td>0.1</td>\n",
       "      <td>22.5</td>\n",
       "      <td>1.0</td>\n",
       "      <td>9.9</td>\n",
       "      <td>18.0</td>\n",
       "      <td>6.8</td>\n",
       "      <td>28.5</td>\n",
       "      <td>6.8</td>\n",
       "    </tr>\n",
       "    <tr>\n",
       "      <th>United Kingdom</th>\n",
       "      <td>2.7</td>\n",
       "      <td>1.4</td>\n",
       "      <td>30.2</td>\n",
       "      <td>1.4</td>\n",
       "      <td>6.9</td>\n",
       "      <td>16.9</td>\n",
       "      <td>5.7</td>\n",
       "      <td>28.3</td>\n",
       "      <td>6.4</td>\n",
       "    </tr>\n",
       "    <tr>\n",
       "      <th>Austria</th>\n",
       "      <td>12.7</td>\n",
       "      <td>1.1</td>\n",
       "      <td>30.2</td>\n",
       "      <td>1.4</td>\n",
       "      <td>9.0</td>\n",
       "      <td>16.8</td>\n",
       "      <td>4.9</td>\n",
       "      <td>16.8</td>\n",
       "      <td>7.0</td>\n",
       "    </tr>\n",
       "    <tr>\n",
       "      <th>Finland</th>\n",
       "      <td>13.0</td>\n",
       "      <td>0.4</td>\n",
       "      <td>25.9</td>\n",
       "      <td>1.3</td>\n",
       "      <td>7.4</td>\n",
       "      <td>14.7</td>\n",
       "      <td>5.5</td>\n",
       "      <td>24.3</td>\n",
       "      <td>7.6</td>\n",
       "    </tr>\n",
       "    <tr>\n",
       "      <th>Greece</th>\n",
       "      <td>41.4</td>\n",
       "      <td>0.6</td>\n",
       "      <td>17.6</td>\n",
       "      <td>0.6</td>\n",
       "      <td>8.1</td>\n",
       "      <td>11.5</td>\n",
       "      <td>2.4</td>\n",
       "      <td>11.0</td>\n",
       "      <td>6.7</td>\n",
       "    </tr>\n",
       "    <tr>\n",
       "      <th>Norway</th>\n",
       "      <td>9.0</td>\n",
       "      <td>0.5</td>\n",
       "      <td>22.4</td>\n",
       "      <td>0.8</td>\n",
       "      <td>8.6</td>\n",
       "      <td>16.9</td>\n",
       "      <td>4.7</td>\n",
       "      <td>27.6</td>\n",
       "      <td>9.4</td>\n",
       "    </tr>\n",
       "    <tr>\n",
       "      <th>Portugal</th>\n",
       "      <td>27.8</td>\n",
       "      <td>0.3</td>\n",
       "      <td>24.5</td>\n",
       "      <td>0.6</td>\n",
       "      <td>8.4</td>\n",
       "      <td>13.3</td>\n",
       "      <td>2.7</td>\n",
       "      <td>16.7</td>\n",
       "      <td>5.7</td>\n",
       "    </tr>\n",
       "    <tr>\n",
       "      <th>Spain</th>\n",
       "      <td>22.9</td>\n",
       "      <td>0.8</td>\n",
       "      <td>28.5</td>\n",
       "      <td>0.7</td>\n",
       "      <td>11.5</td>\n",
       "      <td>9.7</td>\n",
       "      <td>8.5</td>\n",
       "      <td>11.8</td>\n",
       "      <td>5.5</td>\n",
       "    </tr>\n",
       "    <tr>\n",
       "      <th>Sweden</th>\n",
       "      <td>6.1</td>\n",
       "      <td>0.4</td>\n",
       "      <td>25.9</td>\n",
       "      <td>0.8</td>\n",
       "      <td>7.2</td>\n",
       "      <td>14.4</td>\n",
       "      <td>6.0</td>\n",
       "      <td>32.4</td>\n",
       "      <td>6.8</td>\n",
       "    </tr>\n",
       "    <tr>\n",
       "      <th>Switzerland</th>\n",
       "      <td>7.7</td>\n",
       "      <td>0.2</td>\n",
       "      <td>37.8</td>\n",
       "      <td>0.8</td>\n",
       "      <td>9.5</td>\n",
       "      <td>17.5</td>\n",
       "      <td>5.3</td>\n",
       "      <td>15.4</td>\n",
       "      <td>5.7</td>\n",
       "    </tr>\n",
       "    <tr>\n",
       "      <th>Turkey</th>\n",
       "      <td>66.8</td>\n",
       "      <td>0.7</td>\n",
       "      <td>7.9</td>\n",
       "      <td>0.1</td>\n",
       "      <td>2.8</td>\n",
       "      <td>5.2</td>\n",
       "      <td>1.1</td>\n",
       "      <td>11.9</td>\n",
       "      <td>3.2</td>\n",
       "    </tr>\n",
       "    <tr>\n",
       "      <th>Bulgaria</th>\n",
       "      <td>23.6</td>\n",
       "      <td>1.9</td>\n",
       "      <td>32.3</td>\n",
       "      <td>0.6</td>\n",
       "      <td>7.9</td>\n",
       "      <td>8.0</td>\n",
       "      <td>0.7</td>\n",
       "      <td>18.2</td>\n",
       "      <td>6.7</td>\n",
       "    </tr>\n",
       "    <tr>\n",
       "      <th>Czechoslovakia</th>\n",
       "      <td>16.5</td>\n",
       "      <td>2.9</td>\n",
       "      <td>35.5</td>\n",
       "      <td>1.2</td>\n",
       "      <td>8.7</td>\n",
       "      <td>9.2</td>\n",
       "      <td>0.9</td>\n",
       "      <td>17.9</td>\n",
       "      <td>7.0</td>\n",
       "    </tr>\n",
       "    <tr>\n",
       "      <th>E. Germany</th>\n",
       "      <td>4.2</td>\n",
       "      <td>2.9</td>\n",
       "      <td>41.2</td>\n",
       "      <td>1.3</td>\n",
       "      <td>7.6</td>\n",
       "      <td>11.2</td>\n",
       "      <td>1.2</td>\n",
       "      <td>22.1</td>\n",
       "      <td>8.4</td>\n",
       "    </tr>\n",
       "    <tr>\n",
       "      <th>Hungary</th>\n",
       "      <td>21.7</td>\n",
       "      <td>3.1</td>\n",
       "      <td>29.6</td>\n",
       "      <td>1.9</td>\n",
       "      <td>8.2</td>\n",
       "      <td>9.4</td>\n",
       "      <td>0.9</td>\n",
       "      <td>17.2</td>\n",
       "      <td>8.0</td>\n",
       "    </tr>\n",
       "    <tr>\n",
       "      <th>Poland</th>\n",
       "      <td>31.1</td>\n",
       "      <td>2.5</td>\n",
       "      <td>25.7</td>\n",
       "      <td>0.9</td>\n",
       "      <td>8.4</td>\n",
       "      <td>7.5</td>\n",
       "      <td>0.9</td>\n",
       "      <td>16.1</td>\n",
       "      <td>6.9</td>\n",
       "    </tr>\n",
       "    <tr>\n",
       "      <th>Rumania</th>\n",
       "      <td>34.7</td>\n",
       "      <td>2.1</td>\n",
       "      <td>30.1</td>\n",
       "      <td>0.6</td>\n",
       "      <td>8.7</td>\n",
       "      <td>5.9</td>\n",
       "      <td>1.3</td>\n",
       "      <td>11.7</td>\n",
       "      <td>5.0</td>\n",
       "    </tr>\n",
       "    <tr>\n",
       "      <th>USSR</th>\n",
       "      <td>23.7</td>\n",
       "      <td>1.4</td>\n",
       "      <td>25.8</td>\n",
       "      <td>0.6</td>\n",
       "      <td>9.2</td>\n",
       "      <td>6.1</td>\n",
       "      <td>0.5</td>\n",
       "      <td>23.6</td>\n",
       "      <td>9.3</td>\n",
       "    </tr>\n",
       "    <tr>\n",
       "      <th>Yugoslavia</th>\n",
       "      <td>48.7</td>\n",
       "      <td>1.5</td>\n",
       "      <td>16.8</td>\n",
       "      <td>1.1</td>\n",
       "      <td>4.9</td>\n",
       "      <td>6.4</td>\n",
       "      <td>11.3</td>\n",
       "      <td>5.3</td>\n",
       "      <td>4.0</td>\n",
       "    </tr>\n",
       "  </tbody>\n",
       "</table>\n",
       "</div>"
      ],
      "text/plain": [
       "                 Agr  Min   Man   PS   Con    SI   Fin   SPS   TC\n",
       "Country                                                          \n",
       "Belgium          3.3  0.9  27.6  0.9   8.2  19.1   6.2  26.6  7.2\n",
       "Denmark          9.2  0.1  21.8  0.6   8.3  14.6   6.5  32.2  7.1\n",
       "France          10.8  0.8  27.5  0.9   8.9  16.8   6.0  22.6  5.7\n",
       "W. Germany       6.7  1.3  35.8  0.9   7.3  14.4   5.0  22.3  6.1\n",
       "Ireland         23.2  1.0  20.7  1.3   7.5  16.8   2.8  20.8  6.1\n",
       "Italy           15.9  0.6  27.6  0.5  10.0  18.1   1.6  20.1  5.7\n",
       "Luxembourg       7.7  3.1  30.8  0.8   9.2  18.5   4.6  19.2  6.2\n",
       "Netherlands      6.3  0.1  22.5  1.0   9.9  18.0   6.8  28.5  6.8\n",
       "United Kingdom   2.7  1.4  30.2  1.4   6.9  16.9   5.7  28.3  6.4\n",
       "Austria         12.7  1.1  30.2  1.4   9.0  16.8   4.9  16.8  7.0\n",
       "Finland         13.0  0.4  25.9  1.3   7.4  14.7   5.5  24.3  7.6\n",
       "Greece          41.4  0.6  17.6  0.6   8.1  11.5   2.4  11.0  6.7\n",
       "Norway           9.0  0.5  22.4  0.8   8.6  16.9   4.7  27.6  9.4\n",
       "Portugal        27.8  0.3  24.5  0.6   8.4  13.3   2.7  16.7  5.7\n",
       "Spain           22.9  0.8  28.5  0.7  11.5   9.7   8.5  11.8  5.5\n",
       "Sweden           6.1  0.4  25.9  0.8   7.2  14.4   6.0  32.4  6.8\n",
       "Switzerland      7.7  0.2  37.8  0.8   9.5  17.5   5.3  15.4  5.7\n",
       "Turkey          66.8  0.7   7.9  0.1   2.8   5.2   1.1  11.9  3.2\n",
       "Bulgaria        23.6  1.9  32.3  0.6   7.9   8.0   0.7  18.2  6.7\n",
       "Czechoslovakia  16.5  2.9  35.5  1.2   8.7   9.2   0.9  17.9  7.0\n",
       "E. Germany       4.2  2.9  41.2  1.3   7.6  11.2   1.2  22.1  8.4\n",
       "Hungary         21.7  3.1  29.6  1.9   8.2   9.4   0.9  17.2  8.0\n",
       "Poland          31.1  2.5  25.7  0.9   8.4   7.5   0.9  16.1  6.9\n",
       "Rumania         34.7  2.1  30.1  0.6   8.7   5.9   1.3  11.7  5.0\n",
       "USSR            23.7  1.4  25.8  0.6   9.2   6.1   0.5  23.6  9.3\n",
       "Yugoslavia      48.7  1.5  16.8  1.1   4.9   6.4  11.3   5.3  4.0"
      ]
     },
     "execution_count": 4,
     "metadata": {},
     "output_type": "execute_result"
    }
   ],
   "source": [
    "data"
   ]
  },
  {
   "cell_type": "markdown",
   "metadata": {},
   "source": [
    "Single link dendrogram"
   ]
  },
  {
   "cell_type": "code",
   "execution_count": 5,
   "metadata": {},
   "outputs": [
    {
     "data": {
      "image/png": "[encoded data removed]",
      "text/plain": [
       "<matplotlib.figure.Figure at 0x7ff38ca96240>"
      ]
     },
     "metadata": {},
     "output_type": "display_data"
    }
   ],
   "source": [
    "#single link dendrogram\n",
    "dn1 = dendrogram( linkage(data, 'single'), labels=np.array(data.index), leaf_rotation=90)\n",
    "plt.show()"
   ]
  },
  {
   "cell_type": "markdown",
   "metadata": {},
   "source": [
    "Complete link dendrogram"
   ]
  },
  {
   "cell_type": "code",
   "execution_count": 6,
   "metadata": {},
   "outputs": [
    {
     "data": {
      "image/png": "[encoded data removed]",
      "text/plain": [
       "<matplotlib.figure.Figure at 0x7ff389c58400>"
      ]
     },
     "metadata": {},
     "output_type": "display_data"
    }
   ],
   "source": [
    "#complete link dendrogram\n",
    "dn1 = dendrogram( linkage(data, 'complete'), labels=np.array(data.index), leaf_rotation=90)\n",
    "plt.show()"
   ]
  },
  {
   "cell_type": "markdown",
   "metadata": {},
   "source": [
    "Average link dendrogram"
   ]
  },
  {
   "cell_type": "code",
   "execution_count": 7,
   "metadata": {},
   "outputs": [
    {
     "data": {
      "image/png": "[encoded data removed]",
      "text/plain": [
       "<matplotlib.figure.Figure at 0x7ff389c54320>"
      ]
     },
     "metadata": {},
     "output_type": "display_data"
    }
   ],
   "source": [
    "#complete link dendrogram\n",
    "dn1 = dendrogram( linkage(data, 'average'), labels=np.array(data.index), leaf_rotation=90)\n",
    "plt.show()"
   ]
  },
  {
   "cell_type": "markdown",
   "metadata": {},
   "source": [
    "Now about the structures, I apologize for not being really into geography and politics, so I cannnot imply what hidden message each graph stands for. But I am pretty sure, the graphs produced by complete link dendrogram and average link dedrogram are quite similar, with most of the same countries being in the same clusters. It is probably because the single link method can be really misleading sometimes, as they only consider the clusters' closet neighbor. Complete link and average link, however, seems to focus more on the overall distrubtion of the data, probably the reason why it is more accurate."
   ]
  },
  {
   "cell_type": "markdown",
   "metadata": {},
   "source": [
    "Now test which part parameter for kmeans suit best"
   ]
  },
  {
   "cell_type": "code",
   "execution_count": 8,
   "metadata": {},
   "outputs": [
    {
     "data": {
      "text/plain": [
       "[9299.5900000000001,\n",
       " 4254.5342857142859,\n",
       " 2362.6024603174601,\n",
       " 1792.9014880952377,\n",
       " 1366.4098214285716,\n",
       " 1149.1954166666669,\n",
       " 953.61600000000021,\n",
       " 778.90700000000015,\n",
       " 697.99566666666692,\n",
       " 582.4186666666667,\n",
       " 499.53650000000016,\n",
       " 402.23000000000002,\n",
       " 363.00066666666669,\n",
       " 292.86400000000003]"
      ]
     },
     "execution_count": 8,
     "metadata": {},
     "output_type": "execute_result"
    },
    {
     "data": {
      "image/png": "[encoded data removed]",
      "text/plain": [
       "<matplotlib.figure.Figure at 0x7ff389bd2550>"
      ]
     },
     "metadata": {},
     "output_type": "display_data"
    }
   ],
   "source": [
    "inertias = []\n",
    "for n in np.arange(1, 15):\n",
    "    kmeans = KMeans(n_clusters=n)\n",
    "    kmeans.fit(data)\n",
    "    inertias.append(kmeans.inertia_)\n",
    "plt.plot(np.arange(1, 15), inertias, marker=\"o\")\n",
    "inertias"
   ]
  },
  {
   "cell_type": "markdown",
   "metadata": {},
   "source": [
    "Notice after 3 or 4, the slope start decreasing really slow. I will pick 4 as our appropriate cluster size due to eblow rule."
   ]
  },
  {
   "cell_type": "code",
   "execution_count": 9,
   "metadata": {},
   "outputs": [
    {
     "data": {
      "image/png": "[encoded data removed]",
      "text/plain": [
       "<matplotlib.figure.Figure at 0x7ff389b48080>"
      ]
     },
     "metadata": {},
     "output_type": "display_data"
    }
   ],
   "source": [
    "k_means = KMeans(n_clusters=4)\n",
    "k_means.fit(data)\n",
    "y_pred = k_means.predict(data)\n",
    "y_pred = y_pred.reshape(len(y_pred), 1)\n",
    "cc = k_means.cluster_centers_\n",
    "pca = PCA(n_components=2)\n",
    "x_transformed = pca.fit_transform(data)\n",
    "transformed_center = pca.transform(cc)\n",
    "\n",
    "pc = pd.DataFrame(np.concatenate((x_transformed, y_pred), axis=1), columns= ['PCA1', 'PCA2', 'target'])\n",
    "dd = pd.DataFrame(np.concatenate((np.array(data.index).reshape((26, 1)), y_pred), axis=1), columns=['country', 'label'])\n",
    "fig, ax = plt.subplots(figsize=(14, 8))\n",
    "ax.scatter(transformed_center[:, 0], transformed_center[:, 1], s=250, c='k', marker='x', label='Cluster Center')\n",
    "\n",
    "for idx in range(4):\n",
    "    tmp_pdf = pc[pc['target'] == idx]\n",
    "    ax.scatter(tmp_pdf['PCA1'], tmp_pdf['PCA2'], color=['orange','blue', 'red', 'grey'][idx], label=['Class 0', 'Class 1', 'Class 2', 'Class 3'][idx], alpha=1, s=25)\n",
    "\n",
    "ax.set(xlabel='PCA1', ylabel='PCA2')\n",
    "ax.legend(bbox_to_anchor=(1.0, 1), loc=2)\n",
    "plt.show()"
   ]
  },
  {
   "cell_type": "markdown",
   "metadata": {},
   "source": [
    "With no other good way to really plot our clusters, I choose to extract 2 PCA from each country and make them into a graph."
   ]
  }
 ],
 "metadata": {
  "kernelspec": {
   "display_name": "Python 3",
   "language": "python",
   "name": "python3"
  },
  "language_info": {
   "codemirror_mode": {
    "name": "ipython",
    "version": 3
   },
   "file_extension": ".py",
   "mimetype": "text/x-python",
   "name": "python",
   "nbconvert_exporter": "python",
   "pygments_lexer": "ipython3",
   "version": "3.6.4"
  }
 },
 "nbformat": 4,
 "nbformat_minor": 2
}
