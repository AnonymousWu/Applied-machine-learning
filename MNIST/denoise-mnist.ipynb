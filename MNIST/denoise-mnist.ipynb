{
 "cells": [
  {
   "cell_type": "code",
   "execution_count": 345,
   "metadata": {},
   "outputs": [],
   "source": [
    "import numpy as np\n",
    "import matplotlib.pyplot as plt\n",
    "import math"
   ]
  },
  {
   "cell_type": "code",
   "execution_count": 368,
   "metadata": {},
   "outputs": [],
   "source": [
    "# Obtain the dataset\n",
    "from mnist import MNIST\n",
    "mndata = MNIST('./mnist')\n",
    "images, labels = mndata.load_training()"
   ]
  },
  {
   "cell_type": "code",
   "execution_count": 369,
   "metadata": {},
   "outputs": [
    {
     "data": {
      "image/png": "[encoded data removed]",
      "text/plain": [
       "<matplotlib.figure.Figure at 0x107cd37f0>"
      ]
     },
     "metadata": {},
     "output_type": "display_data"
    }
   ],
   "source": [
    "def gen_image(array):\n",
    "    plt.imshow(np.array(array).reshape((28,28)))\n",
    "    plt.show()\n",
    "\n",
    "gen_image(images[0])"
   ]
  },
  {
   "cell_type": "code",
   "execution_count": 370,
   "metadata": {},
   "outputs": [],
   "source": [
    "# 1. binarize the first 20 images\n",
    "image_20 = images[0:20]\n",
    "\n",
    "for image in image_20:\n",
    "    for pixel in range(len(image)):\n",
    "        if(image[pixel]<128):\n",
    "            image[pixel] = -1\n",
    "        else:\n",
    "            image[pixel] = 1"
   ]
  },
  {
   "cell_type": "code",
   "execution_count": 371,
   "metadata": {},
   "outputs": [
    {
     "data": {
      "image/png": "[encoded data removed]",
      "text/plain": [
       "<matplotlib.figure.Figure at 0x107febb38>"
      ]
     },
     "metadata": {},
     "output_type": "display_data"
    }
   ],
   "source": [
    "gen_image(image_20[0])"
   ]
  },
  {
   "cell_type": "code",
   "execution_count": 372,
   "metadata": {},
   "outputs": [],
   "source": [
    "# 2. Add noise to the dataset\n",
    "import csv\n",
    "noise = []\n",
    "file = open('SupplementaryAndSampleData/NoiseCoordinates.csv', 'r')\n",
    "reader = csv.reader(file)\n",
    "for row in reader:\n",
    "    noise.append(row)\n",
    "file.close()\n",
    "\n",
    "def add_noise(noise):\n",
    "    coordinates = {}\n",
    "    for i in range(20):\n",
    "        row = (i*2)+1\n",
    "        col = row+1\n",
    "        coordinates[i] = []\n",
    "        for j in range(1, len(noise[row])):\n",
    "            coordinates[i].append((int(noise[row][j]), int(noise[col][j])))\n",
    "    \n",
    "    for i in range(len(image_20)):\n",
    "        for j in coordDict[i]:\n",
    "            image_20[i][j[0]*28+j[1]] *= -1  # image size 28*28, flatten index\n",
    "\n",
    "add_noise(noise)"
   ]
  },
  {
   "cell_type": "code",
   "execution_count": 373,
   "metadata": {},
   "outputs": [
    {
     "data": {
      "image/png": "[encoded data removed]",
      "text/plain": [
       "<matplotlib.figure.Figure at 0x10a7a0e10>"
      ]
     },
     "metadata": {},
     "output_type": "display_data"
    }
   ],
   "source": [
    "gen_image(image_20[0])"
   ]
  },
  {
   "cell_type": "code",
   "execution_count": 374,
   "metadata": {},
   "outputs": [],
   "source": [
    "# 3. Building a Boltzman Machine for denoising the images and using Mean-Field Inference\n",
    "\n",
    "H_theta = 0.8   # hidden\n",
    "X_theta = 2   # observed\n",
    "\n",
    "# get update order\n",
    "order = np.array(np.genfromtxt('SupplementaryAndSampleData/UpdateOrderCoordinates.csv', delimiter=',',\n",
    "                      skip_header=1, usecols=range(1, 785)))\n",
    "row_order = []\n",
    "col_order = []\n",
    "for i in range(20):\n",
    "    row_order.append(order[i*2])\n",
    "    col_order.append(order[i*2+1])\n",
    "row_order = np.array(row_order, dtype=np.int)\n",
    "col_order = np.array(col_order, dtype=np.int)\n",
    "\n",
    "# initial parameters\n",
    "Q = np.genfromtxt('SupplementaryAndSampleData/InitialParametersModel.csv', delimiter=',')\n",
    "\n",
    "# Copy Q for each image (all images use same initial Q values)\n",
    "pi = [np.copy(Q) for _ in range(20)] "
   ]
  },
  {
   "cell_type": "code",
   "execution_count": 353,
   "metadata": {},
   "outputs": [],
   "source": [
    "def hidden_neighbors_sum(pi,x,y):\n",
    "    \n",
    "    result = 0   \n",
    "    # boundary check, get all neighbors\n",
    "    \n",
    "    if(x > 0):\n",
    "        result += (2*pi[y][x-1]) - 1   \n",
    "    if(y > 0):\n",
    "        result += (2*pi[y-1][x]) - 1\n",
    "    if (x < 27):  \n",
    "        result += (2*pi[y][x+1]) - 1\n",
    "    if (y < 27):\n",
    "        result += (2*pi[y+1][x]) - 1\n",
    "    \n",
    "    result *= H_theta\n",
    "    \n",
    "    return result\n",
    "\n",
    "\n",
    "def observed_neighbors_sum(X, x, y):\n",
    "    return  X[y][x] * X_theta\n"
   ]
  },
  {
   "cell_type": "code",
   "execution_count": 354,
   "metadata": {},
   "outputs": [],
   "source": [
    "def compute_energy(pi,X):\n",
    "    \n",
    "    logQ = 0\n",
    "    logP = 0\n",
    "    eps = 10**(-10)\n",
    "    \n",
    "    for row in range(len(pi)):\n",
    "        for Q in pi[row]:\n",
    "            logQ += Q * np.log(Q + eps)\n",
    "            logQ += (1-Q) * np.log((1-Q) + eps)\n",
    "    \n",
    "    for y in range(len(pi)):\n",
    "        for x in range(len(pi[y])):\n",
    "            hidden = 0      \n",
    "            if (x > 0):\n",
    "                hidden += 2*pi[y][x-1] - 1        \n",
    "            if (x < 27):\n",
    "                hidden += 2*pi[y][x+1] - 1              \n",
    "            if (y > 0):\n",
    "                hidden += 2*pi[y-1][x] - 1\n",
    "            if (y < 27):\n",
    "                hidden += 2*pi[y+1][x] - 1\n",
    "                \n",
    "            hidden *= H_theta * (2*pi[y][x]-1)\n",
    "            observed = observed_neighbors_sum(X, x, y) * (2*pi[y][x]-1)      \n",
    "            logP += hidden + observed\n",
    "    \n",
    "    return logQ - logP"
   ]
  },
  {
   "cell_type": "code",
   "execution_count": 355,
   "metadata": {},
   "outputs": [],
   "source": [
    "E = np.zeros((20,10))\n",
    "\n",
    "for it in range(10):    # 10 iterations\n",
    "    for i in range(20):   # 20 images\n",
    "        X = np.array(image_20[i]).reshape((28, 28))  # observed value\n",
    "        E[i][it] = compute_energy(pi[i], X)\n",
    "        \n",
    "        for x,y in zip(row_order[i],col_order[i]):\n",
    "            hidden = hidden_neighbors_sum(pi[i], x, y)\n",
    "            observed = observed_neighbors_sum(X, x, y)\n",
    "            \n",
    "            # update pi\n",
    "            pi[i][y][x] = (np.exp(hidden+observed)) / (np.exp(hidden+observed)+np.exp(-(hidden+observed)))            \n",
    "        "
   ]
  },
  {
   "cell_type": "code",
   "execution_count": 356,
   "metadata": {},
   "outputs": [],
   "source": [
    "image_20_2d = [np.array(image_20[i]).reshape(28, 28) for i in range(20)]\n",
    "for i in range(20):    \n",
    "    for x, y in zip(row_order[i],col_order[i]):\n",
    "        if(pi[i][y][x] >= 0.5):\n",
    "            image_20_2d[i][y][x] = 1\n",
    "        else:\n",
    "            image_20_2d[i][y][x] = 0"
   ]
  },
  {
   "cell_type": "code",
   "execution_count": 360,
   "metadata": {},
   "outputs": [
    {
     "data": {
      "image/png": "[encoded data removed]",
      "text/plain": [
       "<matplotlib.figure.Figure at 0x10e409898>"
      ]
     },
     "metadata": {},
     "output_type": "display_data"
    },
    {
     "data": {
      "image/png": "[encoded data removed]",
      "text/plain": [
       "<matplotlib.figure.Figure at 0x107fd8ba8>"
      ]
     },
     "metadata": {},
     "output_type": "display_data"
    },
    {
     "data": {
      "image/png": "[encoded data removed]",
      "text/plain": [
       "<matplotlib.figure.Figure at 0x10afc25f8>"
      ]
     },
     "metadata": {},
     "output_type": "display_data"
    },
    {
     "data": {
      "image/png": "[encoded data removed]",
      "text/plain": [
       "<matplotlib.figure.Figure at 0x107cc25f8>"
      ]
     },
     "metadata": {},
     "output_type": "display_data"
    },
    {
     "data": {
      "image/png": "[encoded data removed]",
      "text/plain": [
       "<matplotlib.figure.Figure at 0x10aa64400>"
      ]
     },
     "metadata": {},
     "output_type": "display_data"
    },
    {
     "data": {
      "image/png": "[encoded data removed]",
      "text/plain": [
       "<matplotlib.figure.Figure at 0x107fd84a8>"
      ]
     },
     "metadata": {},
     "output_type": "display_data"
    },
    {
     "data": {
      "image/png": "[encoded data removed]",
      "text/plain": [
       "<matplotlib.figure.Figure at 0x10e49eb70>"
      ]
     },
     "metadata": {},
     "output_type": "display_data"
    },
    {
     "data": {
      "image/png": "[encoded data removed]",
      "text/plain": [
       "<matplotlib.figure.Figure at 0x10805c358>"
      ]
     },
     "metadata": {},
     "output_type": "display_data"
    },
    {
     "data": {
      "image/png": "[encoded data removed]",
      "text/plain": [
       "<matplotlib.figure.Figure at 0x1043deb70>"
      ]
     },
     "metadata": {},
     "output_type": "display_data"
    },
    {
     "data": {
      "image/png": "[encoded data removed]",
      "text/plain": [
       "<matplotlib.figure.Figure at 0x111880b70>"
      ]
     },
     "metadata": {},
     "output_type": "display_data"
    },
    {
     "data": {
      "image/png": "[encoded data removed]",
      "text/plain": [
       "<matplotlib.figure.Figure at 0x107fe6e10>"
      ]
     },
     "metadata": {},
     "output_type": "display_data"
    },
    {
     "data": {
      "image/png": "[encoded data removed]",
      "text/plain": [
       "<matplotlib.figure.Figure at 0x10805fb70>"
      ]
     },
     "metadata": {},
     "output_type": "display_data"
    },
    {
     "data": {
      "image/png": "[encoded data removed]",
      "text/plain": [
       "<matplotlib.figure.Figure at 0x10df71550>"
      ]
     },
     "metadata": {},
     "output_type": "display_data"
    },
    {
     "data": {
      "image/png": "[encoded data removed]",
      "text/plain": [
       "<matplotlib.figure.Figure at 0x107f5b240>"
      ]
     },
     "metadata": {},
     "output_type": "display_data"
    },
    {
     "data": {
      "image/png": "[encoded data removed]",
      "text/plain": [
       "<matplotlib.figure.Figure at 0x10a798c50>"
      ]
     },
     "metadata": {},
     "output_type": "display_data"
    },
    {
     "data": {
      "image/png": "[encoded data removed]",
      "text/plain": [
       "<matplotlib.figure.Figure at 0x10df09fd0>"
      ]
     },
     "metadata": {},
     "output_type": "display_data"
    },
    {
     "data": {
      "image/png": "[encoded data removed]",
      "text/plain": [
       "<matplotlib.figure.Figure at 0x107fd8f98>"
      ]
     },
     "metadata": {},
     "output_type": "display_data"
    },
    {
     "data": {
      "image/png": "[encoded data removed]",
      "text/plain": [
       "<matplotlib.figure.Figure at 0x10defda20>"
      ]
     },
     "metadata": {},
     "output_type": "display_data"
    },
    {
     "data": {
      "image/png": "[encoded data removed]",
      "text/plain": [
       "<matplotlib.figure.Figure at 0x10af92470>"
      ]
     },
     "metadata": {},
     "output_type": "display_data"
    },
    {
     "data": {
      "image/png": "[encoded data removed]",
      "text/plain": [
       "<matplotlib.figure.Figure at 0x1082a0470>"
      ]
     },
     "metadata": {},
     "output_type": "display_data"
    }
   ],
   "source": [
    "def save_image(image):\n",
    "    fig = plt.figure(frameon=False)\n",
    "    fig.set_size_inches(3, 3)\n",
    "    ax = plt.Axes(fig, [0,0,1,1])\n",
    "    ax.set_axis_off()\n",
    "    fig.add_axes(ax)\n",
    "    ax.imshow(image)\n",
    "    fig.savefig('image'+str(i+1)+'.png', dpi=28)    \n",
    "    plt.show() \n",
    "    \n",
    "for i in range(20):\n",
    "    save_image(image_20_2d[i])"
   ]
  },
  {
   "cell_type": "code",
   "execution_count": 363,
   "metadata": {},
   "outputs": [],
   "source": [
    "# write energy to csv\n",
    "energy = []\n",
    "energy.append([E[10][0], E[10][1]])\n",
    "energy.append([E[11][0], E[11][1]])        \n",
    "np.savetxt(\"energy.csv\", energy, delimiter=\",\") "
   ]
  },
  {
   "cell_type": "code",
   "execution_count": 367,
   "metadata": {},
   "outputs": [],
   "source": [
    "# reconstructed images\n",
    "image = [[] for _ in range(28)]\n",
    "for row in range(28):\n",
    "    for i in range(10, 20):\n",
    "        image[row].extend(image_20_2d[i][row])\n",
    "np.savetxt(\"denoised.csv\", image, fmt='%d', delimiter=\",\")   "
   ]
  },
  {
   "cell_type": "code",
   "execution_count": null,
   "metadata": {},
   "outputs": [],
   "source": []
  }
 ],
 "metadata": {
  "kernelspec": {
   "display_name": "Python 3",
   "language": "python",
   "name": "python3"
  },
  "language_info": {
   "codemirror_mode": {
    "name": "ipython",
    "version": 3
   },
   "file_extension": ".py",
   "mimetype": "text/x-python",
   "name": "python",
   "nbconvert_exporter": "python",
   "pygments_lexer": "ipython3",
   "version": "3.6.4"
  }
 },
 "nbformat": 4,
 "nbformat_minor": 2
}
